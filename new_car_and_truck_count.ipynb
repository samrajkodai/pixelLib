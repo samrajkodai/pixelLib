{
  "nbformat": 4,
  "nbformat_minor": 0,
  "metadata": {
    "colab": {
      "name": "new car and truck count.ipynb",
      "provenance": []
    },
    "kernelspec": {
      "name": "python3",
      "display_name": "Python 3"
    },
    "language_info": {
      "name": "python"
    }
  },
  "cells": [
    {
      "cell_type": "code",
      "metadata": {
        "colab": {
          "base_uri": "https://localhost:8080/"
        },
        "id": "Ubq60m4OuRzW",
        "outputId": "2293dc0a-317c-44c5-95be-d72ce613ae14"
      },
      "source": [
        "!pip install pixellib"
      ],
      "execution_count": 1,
      "outputs": [
        {
          "output_type": "stream",
          "text": [
            "Collecting pixellib\n",
            "  Downloading pixellib-0.6.6-py3-none-any.whl (69 kB)\n",
            "\u001b[?25l\r\u001b[K     |████▊                           | 10 kB 11.3 MB/s eta 0:00:01\r\u001b[K     |█████████▍                      | 20 kB 14.8 MB/s eta 0:00:01\r\u001b[K     |██████████████▏                 | 30 kB 10.5 MB/s eta 0:00:01\r\u001b[K     |██████████████████▉             | 40 kB 9.7 MB/s eta 0:00:01\r\u001b[K     |███████████████████████▌        | 51 kB 5.1 MB/s eta 0:00:01\r\u001b[K     |████████████████████████████▎   | 61 kB 5.4 MB/s eta 0:00:01\r\u001b[K     |████████████████████████████████| 69 kB 3.0 MB/s \n",
            "\u001b[?25hRequirement already satisfied: matplotlib in /usr/local/lib/python3.7/dist-packages (from pixellib) (3.2.2)\n",
            "Collecting imantics\n",
            "  Downloading imantics-0.1.12.tar.gz (13 kB)\n",
            "Requirement already satisfied: pillow in /usr/local/lib/python3.7/dist-packages (from pixellib) (7.1.2)\n",
            "Requirement already satisfied: imgaug in /usr/local/lib/python3.7/dist-packages (from pixellib) (0.2.9)\n",
            "Requirement already satisfied: scikit-image in /usr/local/lib/python3.7/dist-packages (from pixellib) (0.16.2)\n",
            "Collecting labelme2coco\n",
            "  Downloading labelme2coco-0.1.2-py3-none-any.whl (19 kB)\n",
            "Requirement already satisfied: opencv-python in /usr/local/lib/python3.7/dist-packages (from pixellib) (4.1.2.30)\n",
            "Requirement already satisfied: numpy in /usr/local/lib/python3.7/dist-packages (from imantics->pixellib) (1.19.5)\n",
            "Requirement already satisfied: lxml in /usr/local/lib/python3.7/dist-packages (from imantics->pixellib) (4.2.6)\n",
            "Collecting xmljson\n",
            "  Downloading xmljson-0.2.1-py2.py3-none-any.whl (10 kB)\n",
            "Requirement already satisfied: imageio in /usr/local/lib/python3.7/dist-packages (from imgaug->pixellib) (2.4.1)\n",
            "Requirement already satisfied: Shapely in /usr/local/lib/python3.7/dist-packages (from imgaug->pixellib) (1.7.1)\n",
            "Requirement already satisfied: six in /usr/local/lib/python3.7/dist-packages (from imgaug->pixellib) (1.15.0)\n",
            "Requirement already satisfied: scipy in /usr/local/lib/python3.7/dist-packages (from imgaug->pixellib) (1.4.1)\n",
            "Requirement already satisfied: networkx>=2.0 in /usr/local/lib/python3.7/dist-packages (from scikit-image->pixellib) (2.5.1)\n",
            "Requirement already satisfied: PyWavelets>=0.4.0 in /usr/local/lib/python3.7/dist-packages (from scikit-image->pixellib) (1.1.1)\n",
            "Requirement already satisfied: pyparsing!=2.0.4,!=2.1.2,!=2.1.6,>=2.0.1 in /usr/local/lib/python3.7/dist-packages (from matplotlib->pixellib) (2.4.7)\n",
            "Requirement already satisfied: kiwisolver>=1.0.1 in /usr/local/lib/python3.7/dist-packages (from matplotlib->pixellib) (1.3.1)\n",
            "Requirement already satisfied: python-dateutil>=2.1 in /usr/local/lib/python3.7/dist-packages (from matplotlib->pixellib) (2.8.1)\n",
            "Requirement already satisfied: cycler>=0.10 in /usr/local/lib/python3.7/dist-packages (from matplotlib->pixellib) (0.10.0)\n",
            "Requirement already satisfied: decorator<5,>=4.3 in /usr/local/lib/python3.7/dist-packages (from networkx>=2.0->scikit-image->pixellib) (4.4.2)\n",
            "Requirement already satisfied: jsonschema>=2.6.0 in /usr/local/lib/python3.7/dist-packages (from labelme2coco->pixellib) (2.6.0)\n",
            "Building wheels for collected packages: imantics\n",
            "  Building wheel for imantics (setup.py) ... \u001b[?25l\u001b[?25hdone\n",
            "  Created wheel for imantics: filename=imantics-0.1.12-py3-none-any.whl size=16033 sha256=c8f8b2612fcee361cec295dccdfc1a97793459cd88c1777614720c8c50e19cf5\n",
            "  Stored in directory: /root/.cache/pip/wheels/da/7c/3e/296fe3ed4eb3bd713e91dee0d0549f12f316d49939a64bdc96\n",
            "Successfully built imantics\n",
            "Installing collected packages: xmljson, labelme2coco, imantics, pixellib\n",
            "Successfully installed imantics-0.1.12 labelme2coco-0.1.2 pixellib-0.6.6 xmljson-0.2.1\n"
          ],
          "name": "stdout"
        }
      ]
    },
    {
      "cell_type": "code",
      "metadata": {
        "colab": {
          "base_uri": "https://localhost:8080/"
        },
        "id": "ZEmVdTuQuIUL",
        "outputId": "c1085d0f-5fe0-4d22-e33c-26a8e6395de8"
      },
      "source": [
        "import pixellib\n",
        "from pixellib.instance import instance_segmentation\n",
        "segment_image = instance_segmentation()\n",
        "segment_image.load_model(\"/content/drive/MyDrive/Untitled folder/mask_rcnn_coco.h5\") \n",
        "segmask, outpu=segment_image.segmentImage(\"/content/drive/MyDrive/Untitled folder/balaji-srinivasan-hZNvounjE_0-unsplash.jpg\", show_bboxes = True, output_image_name = \"output2.jpg\" )"
      ],
      "execution_count": 74,
      "outputs": [
        {
          "output_type": "stream",
          "text": [
            "/usr/local/lib/python3.7/dist-packages/tensorflow/python/keras/engine/training.py:2426: UserWarning: `Model.state_updates` will be removed in a future version. This property should not be used in TensorFlow 2.0, as `updates` are applied automatically.\n",
            "  warnings.warn('`Model.state_updates` will be removed in a future version. '\n"
          ],
          "name": "stderr"
        },
        {
          "output_type": "stream",
          "text": [
            "Processed image saved successfully in your current working directory.\n"
          ],
          "name": "stdout"
        }
      ]
    },
    {
      "cell_type": "code",
      "metadata": {
        "id": "ZfOmVGdKuWov"
      },
      "source": [
        "result=segmask['class_ids']"
      ],
      "execution_count": 75,
      "outputs": []
    },
    {
      "cell_type": "code",
      "metadata": {
        "colab": {
          "base_uri": "https://localhost:8080/"
        },
        "id": "fb0jobJgunbe",
        "outputId": "23354202-27f2-4ab0-8dd0-b0debc710edc"
      },
      "source": [
        "result"
      ],
      "execution_count": 76,
      "outputs": [
        {
          "output_type": "execute_result",
          "data": {
            "text/plain": [
              "array([ 3,  1,  1,  3,  1,  1,  1,  1,  1,  1,  1,  1,  1,  1,  1,  1,  3,\n",
              "        3,  1,  4,  1,  4,  1,  4,  1,  1,  1,  3, 10,  1,  4,  1,  3],\n",
              "      dtype=int32)"
            ]
          },
          "metadata": {
            "tags": []
          },
          "execution_count": 76
        }
      ]
    },
    {
      "cell_type": "code",
      "metadata": {
        "id": "areTuOOtudkR"
      },
      "source": [
        "cars=0\n",
        "trucks=0\n",
        "for i in result:\n",
        "  if i==3:\n",
        "    cars+=1\n",
        "  elif i==8:\n",
        "    trucks+=1"
      ],
      "execution_count": 77,
      "outputs": []
    },
    {
      "cell_type": "code",
      "metadata": {
        "colab": {
          "base_uri": "https://localhost:8080/"
        },
        "id": "yVsiOuIVxrr-",
        "outputId": "7b9f32af-8791-47a5-e01f-d663c6819584"
      },
      "source": [
        "print(\"The number of cars in a image is {}\".format(cars))\n",
        "print(\"The number of trucks in a image is {}\".format(trucks))"
      ],
      "execution_count": 78,
      "outputs": [
        {
          "output_type": "stream",
          "text": [
            "The number of cars in a image is 6\n",
            "The number of trucks in a image is 0\n"
          ],
          "name": "stdout"
        }
      ]
    },
    {
      "cell_type": "code",
      "metadata": {
        "id": "IQg_OWE04te1"
      },
      "source": [
        ""
      ],
      "execution_count": 78,
      "outputs": []
    }
  ]
}